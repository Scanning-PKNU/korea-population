{
 "cells": [
  {
   "cell_type": "code",
   "execution_count": 17,
   "id": "89893f21-f5a1-4c56-8ecf-fb2f8672c3db",
   "metadata": {},
   "outputs": [
    {
     "name": "stdout",
     "output_type": "stream",
     "text": [
      "Requirement already satisfied: requests in c:\\users\\wjdxo\\anaconda3_1\\lib\\site-packages (2.32.3)\n",
      "Requirement already satisfied: charset-normalizer<4,>=2 in c:\\users\\wjdxo\\anaconda3_1\\lib\\site-packages (from requests) (3.3.2)\n",
      "Requirement already satisfied: idna<4,>=2.5 in c:\\users\\wjdxo\\anaconda3_1\\lib\\site-packages (from requests) (3.7)\n",
      "Requirement already satisfied: urllib3<3,>=1.21.1 in c:\\users\\wjdxo\\anaconda3_1\\lib\\site-packages (from requests) (2.3.0)\n",
      "Requirement already satisfied: certifi>=2017.4.17 in c:\\users\\wjdxo\\anaconda3_1\\lib\\site-packages (from requests) (2025.4.26)\n",
      "34\n",
      "   Unnamed: 0_level_0    2016           2017          2018          2019  \\\n",
      "   Unnamed: 0_level_1      인구   인구밀도      인구   인구밀도     인구   인구밀도     인구   \n",
      "0                   계   51218    510   51362    512  51607    514  51709   \n",
      "1                  서울    9843  16263    9766  16136   9705  16034   9662   \n",
      "2                  부산  약3,500   4477  약3,100   4447   3400   4416   3300   \n",
      "3                  대구    2461   2786    2458   2782   2450   2773   2432   \n",
      "4                  인천    2907   2736    2924   2750   2939   2764   2944   \n",
      "5                  광주    1502   2997    1495   2984   1493   2980   1494   \n",
      "6                  대전    1536   2848    1528   2832   1518   2813   1509   \n",
      "7                  울산    1166   1099    1159   1092   1154   1088   1147   \n",
      "8                  세종     234    504     266    571    304    653    331   \n",
      "9                  경기   12600   1237   12786   1255  13031   1279  13238   \n",
      "10                 강원    1521     90    1521     90   1521     90   1517   \n",
      "11                 충북    1601    216    1609    217   1619    219   1626   \n",
      "12                 충남    2126    258    2153    262   2180    265   2188   \n",
      "13                 전북    1835    227    1829    227   1820    226   1803   \n",
      "14                 전남    1798    146    1795    146   1790    145   1773   \n",
      "15                 경북    2683    141    2675    141   2674    141   2665   \n",
      "16                 경남    3338    317    3339    317   3356    318   3350   \n",
      "17                 제주     618    334     635    343    653    353    660   \n",
      "18                수도권   25350   2139   25476   2149  25675   2165  25844   \n",
      "\n",
      "            2020         \n",
      "     인구밀도     인구   인구밀도  \n",
      "0     515  51781    516  \n",
      "1   15964   9602  15865  \n",
      "2    4380   3344   4342  \n",
      "3    2753   2419   2738  \n",
      "4    2769   2951   2770  \n",
      "5    2980   1488   2969  \n",
      "6    2796   1500   2780  \n",
      "7    1080   1140   1073  \n",
      "8     712    349    750  \n",
      "9    1299  13405   1315  \n",
      "10     90   1515     90  \n",
      "11    219   1632    220  \n",
      "12    265   2204    267  \n",
      "13    223   1792    222  \n",
      "14    144   1764    143  \n",
      "15    140   2655    140  \n",
      "16    318   3350    318  \n",
      "17    356    670    362  \n",
      "18   2179  25958   2188  \n"
     ]
    },
    {
     "name": "stderr",
     "output_type": "stream",
     "text": [
      "C:\\Users\\wjdxo\\AppData\\Local\\Temp\\ipykernel_14808\\3838103786.py:9: FutureWarning: Passing literal html to 'read_html' is deprecated and will be removed in a future version. To read from a literal string, wrap it in a 'StringIO' object.\n",
      "  tables = pd.read_html(res.text)\n"
     ]
    }
   ],
   "source": [
    "!pip install requests\n",
    "\n",
    "import pandas as pd\n",
    "import requests\n",
    "url = \"https://ko.wikipedia.org/wiki/%EB%8C%80%ED%95%9C%EB%AF%BC%EA%B5%AD%EC%9D%98_%EC%9D%B8%EA%B5%AC\"\n",
    "headers = {\"User-Agent\": \"Mozilla/5.0\"}\n",
    "res = requests.get(url, headers=headers)\n",
    "\n",
    "tables = pd.read_html(res.text)\n",
    "print(len(tables))\n",
    "print(tables[0])"
   ]
  },
  {
   "cell_type": "code",
   "execution_count": null,
   "id": "660beac3-a18d-4f78-afdf-2c2ce6e2aa6c",
   "metadata": {},
   "outputs": [],
   "source": []
  },
  {
   "cell_type": "code",
   "execution_count": null,
   "id": "55eeb1e8-0a62-40fe-84bb-51fc17a0191c",
   "metadata": {},
   "outputs": [],
   "source": []
  },
  {
   "cell_type": "code",
   "execution_count": null,
   "id": "c2875e33-3575-44af-a049-7047e966a4a3",
   "metadata": {},
   "outputs": [],
   "source": []
  },
  {
   "cell_type": "code",
   "execution_count": null,
   "id": "552f88b0-c3b3-4228-96d3-243fcc48d335",
   "metadata": {},
   "outputs": [],
   "source": []
  },
  {
   "cell_type": "code",
   "execution_count": null,
   "id": "106e6ce6-8a8a-4c50-9a43-a806eb8485ef",
   "metadata": {},
   "outputs": [],
   "source": []
  },
  {
   "cell_type": "code",
   "execution_count": null,
   "id": "373525bf-c09f-485a-bda1-0b6c79c86f9a",
   "metadata": {},
   "outputs": [],
   "source": []
  },
  {
   "cell_type": "code",
   "execution_count": null,
   "id": "917af6bf-e666-4762-a1af-5aa21fe30bd1",
   "metadata": {},
   "outputs": [],
   "source": []
  }
 ],
 "metadata": {
  "kernelspec": {
   "display_name": "Python 3 (ipykernel)",
   "language": "python",
   "name": "python3"
  },
  "language_info": {
   "codemirror_mode": {
    "name": "ipython",
    "version": 3
   },
   "file_extension": ".py",
   "mimetype": "text/x-python",
   "name": "python",
   "nbconvert_exporter": "python",
   "pygments_lexer": "ipython3",
   "version": "3.13.5"
  }
 },
 "nbformat": 4,
 "nbformat_minor": 5
}
